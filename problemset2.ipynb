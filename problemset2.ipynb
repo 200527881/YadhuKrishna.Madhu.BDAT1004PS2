{
 "cells": [
  {
   "cell_type": "code",
   "execution_count": 16,
   "id": "a7959115",
   "metadata": {},
   "outputs": [
    {
     "name": "stdout",
     "output_type": "stream",
     "text": [
      "6\n",
      "Here in this code, a is assigned 0 then given global scope in the function b, hence, whenever the a value is changed while calling the b function, a as a global variable value is getting changed and is referred to at each execution point.\n"
     ]
    }
   ],
   "source": [
    "#1\n",
    "a = 0\n",
    "def b():\n",
    "    global a\n",
    "    a = c(a)\n",
    "def c(a):\n",
    "    return a + 2\n",
    "\n",
    "b()\n",
    "b()\n",
    "b()\n",
    "print(a)\n",
    "\n",
    "print('Here in this code, a is assigned 0 then given global scope in the function b, hence, whenever the a value is changed while calling the b function, a as a global variable value is getting changed and is referred to at each execution point.')"
   ]
  },
  {
   "cell_type": "code",
   "execution_count": 2,
   "id": "5607d59b",
   "metadata": {},
   "outputs": [
    {
     "name": "stdout",
     "output_type": "stream",
     "text": [
      "File idterm.py not found.\n"
     ]
    }
   ],
   "source": [
    "#2\n",
    "def fileLength(file):\n",
    "      try:\n",
    "        infile = open(file)\n",
    "        print (len(infile.read()))\n",
    "      except FileNotFoundError:\n",
    "          print('File {} not found.'.format(file))\n",
    "fileLength('idterm.py')\n"
   ]
  },
  {
   "cell_type": "code",
   "execution_count": 3,
   "id": "b830f361",
   "metadata": {},
   "outputs": [
    {
     "name": "stdout",
     "output_type": "stream",
     "text": [
      "contents in the list are\n",
      "['doll', 'firetruck', 'kitten']\n",
      "I am a Kangaroo located at coordinates(3,0)\n"
     ]
    }
   ],
   "source": [
    "#3\n",
    "class Marsupial:    \n",
    "    def __init__(self,x,y):\n",
    "            self.pouch=[]\n",
    "    def put_in_pouch(self,items):\n",
    "        self.pouch.append(items)\n",
    "    def pouch_contents(self):\n",
    "        return self.pouch\n",
    "class Kangaroo(Marsupial):\n",
    "    def __init__(self,x,y): \n",
    "        super().__init__(x,y)\n",
    "        self.dx = 0\n",
    "        self.dy = 0\n",
    "    def jump(self,x,y):\n",
    "        self.dx = self.dx + x\n",
    "        self.dy = self.dy + y\n",
    "    def __str__(self):\n",
    "        return ('I am a Kangaroo located at coordinates({},{})'.format(self.dx,self.dy))\n",
    "    \n",
    "k = Kangaroo(0,0)\n",
    "k.put_in_pouch('doll')\n",
    "k.put_in_pouch('firetruck')\n",
    "k.put_in_pouch('kitten')\n",
    "k.pouch_contents()\n",
    "print(\"contents in the list are\")\n",
    "print(k.pouch)  \n",
    "k.jump(1,0)\n",
    "k.jump(1,0)\n",
    "k.jump(1,0)\n",
    "print(k)\n",
    "\n"
   ]
  },
  {
   "cell_type": "code",
   "execution_count": 14,
   "id": "a3f9225c",
   "metadata": {},
   "outputs": [
    {
     "name": "stdout",
     "output_type": "stream",
     "text": [
      "1\n",
      "5\n",
      "16\n",
      "8\n",
      "4\n",
      "2\n",
      "1\n",
      "1\n"
     ]
    }
   ],
   "source": [
    "#4\n",
    "def collatz(x):\n",
    "    if x == 1:\n",
    "        print(x)\n",
    "    elif x%2 == 0:\n",
    "        x = int(x/2)\n",
    "        print(x)\n",
    "        collatz(x)     \n",
    "    else:\n",
    "        x = int((3*x)+1)\n",
    "        print(x)\n",
    "        collatz(x)\n",
    "collatz(1)\n",
    "collatz(10)"
   ]
  },
  {
   "cell_type": "code",
   "execution_count": 6,
   "id": "eb1cc8d9",
   "metadata": {},
   "outputs": [
    {
     "name": "stdout",
     "output_type": "stream",
     "text": [
      "Binary representation of 0 is\n",
      "0\n",
      "Binary representation of 1 is\n",
      "1\n",
      "Binary representation of 3 is\n",
      "11\n",
      "Binary representation of 9 is\n",
      "1001\n"
     ]
    }
   ],
   "source": [
    "#5\n",
    "def binary(integer):\n",
    "    print(\"Binary representation of {} is\".format(integer))\n",
    "    if(integer >= 0):\n",
    "        print(format(integer,\"b\"))\n",
    "    else:\n",
    "        return 'number is negative or 0'\n",
    "binary(0)\n",
    "binary(1)\n",
    "binary(3)\n",
    "binary(9)"
   ]
  },
  {
   "cell_type": "code",
   "execution_count": 7,
   "id": "b9e5feb8",
   "metadata": {},
   "outputs": [
    {
     "name": "stdout",
     "output_type": "stream",
     "text": [
      "http://reed.cs.depaul.edu/lperkovic/test2.html\n",
      "https://reed.cs.depaul.edu/lperkovic/test3.html\n"
     ]
    }
   ],
   "source": [
    "#7\n",
    "from urllib.request import urlopen\n",
    "from urllib.parse import urljoin\n",
    "from html.parser import HTMLParser\n",
    "class Collector(HTMLParser):\n",
    "    'collects hyperlink URLs into a list'\n",
    "\n",
    "    def __init__(self, url):\n",
    "        'initializes parser, the url, and a list'\n",
    "        HTMLParser.__init__(self)\n",
    "        self.url = url\n",
    "        self.links = []\n",
    "        self.text= \"\"\n",
    "\n",
    "    \n",
    "    def handle_starttag(self, tag, attrs):\n",
    "        'collects hyperlink URLs in their absolute format'\n",
    "        if tag == 'a':\n",
    "            for attr in attrs:\n",
    "                if attr[0] == 'href':\n",
    "                    # construct absolute URL\n",
    "                    absolute = urljoin(self.url, attr[1])\n",
    "                    if absolute[:4] == 'http': # collect HTTP URLs\n",
    "                        self.links.append(absolute)\n",
    "                        \n",
    "    def getLinks(self):\n",
    "        'returns hyperlinks URLs in their absolute format'\n",
    "        return self.links\n",
    "    \n",
    "    def handle_data(self, data):\n",
    "        self.text += data\n",
    "       # print(self.text)\n",
    "    def getData(self):\n",
    "        return self.text\n",
    "    \n",
    "url = 'https://reed.cs.depaul.edu/lperkovic/test1.html'\n",
    "#url = 'http://reed.cs.depaul.edu/lperkovic/csc242/test1.html'\n",
    "resource = urlopen(url)\n",
    "content = resource.read().decode()\n",
    "collector = Collector(url)\n",
    "collector.feed(content)\n",
    "for link in collector.getLinks():\n",
    "    print(link)"
   ]
  },
  {
   "cell_type": "code",
   "execution_count": 8,
   "id": "0c655b03",
   "metadata": {},
   "outputs": [
    {
     "name": "stdout",
     "output_type": "stream",
     "text": [
      "(24.8,)(28.4,)(27.9,)(27.6,)(4.2,)(8.3,)(15.7,)(10.4,)(13.6,)(20.7,)(27.7,)(22.2,)\n",
      "('Mumbai',)('London',)('Cairo',)\n",
      "('Mumbai', 'India', 'Winter', 24.8, 5.9)('Mumbai', 'India', 'Spring', 28.4, 16.2)('Mumbai', 'India', 'Summer', 27.9, 1549.4)('Mumbai', 'India', 'Fall', 27.6, 346)\n",
      "('Mumbai', 'India', 'Fall', 27.6, 346)('London', 'United Kingdom', 'Fall', 10.4, 218.5)('Cairo', 'Egypt', 'Fall', 22.2, 4.5)\n",
      "('Mumbai', 'India', 'Fall')('London', 'United Kingdom', 'Winter')('London', 'United Kingdom', 'Fall')\n",
      "('Cairo', 'Egypt')('Mumbai', 'India')\n",
      "(27.6,)\n",
      "('Fall', 569.0)('Spring', 192.29999999999998)('Summer', 1706.5)('Winter', 230.1)"
     ]
    }
   ],
   "source": [
    "#8\n",
    "import sqlite3\n",
    "\n",
    "conn = sqlite3.connect('test.db')\n",
    "\n",
    "conn.execute('''\n",
    "CREATE TABLE IF NOT EXISTS team_data(city text, \n",
    "                      country text, \n",
    "                      season integer, \n",
    "                      temperature integer,\n",
    "                      rainfall integer);''')\n",
    "\n",
    "conn.commit()\n",
    "\n",
    "mycursor = conn.cursor()\n",
    "\n",
    "conn.execute(\"INSERT INTO team_data VALUES('Mumbai', 'India', 'Winter', 24.8, 5.9);\")\n",
    "conn.execute(\"INSERT INTO team_data VALUES('Mumbai', 'India', 'Spring', 28.4, 16.2);\")\n",
    "conn.execute(\"INSERT INTO team_data VALUES('Mumbai', 'India', 'Summer', 27.9, 1549.4);\")\n",
    "conn.execute(\"INSERT INTO team_data VALUES('Mumbai', 'India', 'Fall', 27.6, 346.0);\")\n",
    "conn.execute(\"INSERT INTO team_data VALUES('London', 'United Kingdom', 'Winter', 4.2, 207.7);\")\n",
    "conn.execute(\"INSERT INTO team_data VALUES('London', 'United Kingdom', 'Spring', 8.3, 169.6 );\")\n",
    "conn.execute(\"INSERT INTO team_data VALUES('London', 'United Kingdom', 'Summer', 15.7, 157.0);\")\n",
    "conn.execute(\"INSERT INTO team_data VALUES('London', 'United Kingdom', 'Fall', 10.4, 218.5);\")\n",
    "conn.execute(\"INSERT INTO team_data VALUES('Cairo', 'Egypt', 'Winter', 13.6, 16.5);\")\n",
    "conn.execute(\"INSERT INTO team_data VALUES('Cairo', 'Egypt', 'Spring', 20.7, 6.5);\")\n",
    "conn.execute(\"INSERT INTO team_data VALUES('Cairo', 'Egypt', 'Summer', 27.7, 0.1);\")\n",
    "conn.execute(\"INSERT INTO team_data VALUES('Cairo', 'Egypt', 'Fall', 22.2, 4.5);\")\n",
    "\n",
    "mycursor.execute(\"SELECT temperature from team_data\")\n",
    "myresult = mycursor.fetchall()\n",
    "for x in myresult:\n",
    "  print(x, end=\"\")\n",
    "\n",
    "print()\n",
    "mycursor.execute(\"SELECT DISTINCT(city) from team_data\")\n",
    "myresult = mycursor.fetchall()\n",
    "for x in myresult:\n",
    "  print(x, end=\"\")\n",
    "\n",
    "print()\n",
    "mycursor.execute(\"SELECT * from team_data where country = 'India'\")\n",
    "myresult = mycursor.fetchall()\n",
    "for x in myresult:\n",
    "  print(x, end=\"\")\n",
    "\n",
    "\n",
    "print()\n",
    "mycursor.execute(\"SELECT * from team_data where season = 'Fall'\")\n",
    "myresult = mycursor.fetchall()\n",
    "for x in myresult:\n",
    "  print(x, end=\"\")\n",
    "\n",
    "print()\n",
    "mycursor.execute(\"SELECT city,country,season from team_data where rainfall BETWEEN 200 and 400\")\n",
    "myresult = mycursor.fetchall()\n",
    "for x in myresult:\n",
    "  print(x, end=\"\")\n",
    "\n",
    "print()\n",
    "mycursor.execute(\"SELECT city,country from team_data where (season = 'Fall' and temperature > 20) Order BY temperature ASC \")\n",
    "myresult = mycursor.fetchall()\n",
    "for x in myresult:\n",
    "  print(x, end=\"\")\n",
    "\n",
    "print()\n",
    "mycursor.execute(\"SELECT sum(rainfall) from team_data where city = 'Cairo'\")\n",
    "myresult = mycursor.fetchall()\n",
    "for x in myresult:\n",
    "  print(x, end=\"\")\n",
    "\n",
    "print()\n",
    "mycursor.execute(\"SELECT season, sum(rainfall) from team_data group by season\")\n",
    "myresult = mycursor.fetchall()\n",
    "for x in myresult:\n",
    "  print(x, end=\"\")\n",
    "\n",
    "conn.close()\n"
   ]
  },
  {
   "cell_type": "code",
   "execution_count": 9,
   "id": "d1366311",
   "metadata": {},
   "outputs": [
    {
     "name": "stdout",
     "output_type": "stream",
     "text": [
      "['THE', 'QUICK', 'BROWN', 'FOX', 'JUMPS', 'OVER', 'THE', 'LAZY', 'DOG']\n",
      "['the', 'quick', 'brown', 'fox', 'jumps', 'over', 'the', 'lazy', 'dog']\n",
      "[3, 5, 5, 3, 5, 4, 3, 4, 3]\n",
      "[['THE', 'the', 3], ['QUICK', 'quick', 5], ['BROWN', 'brown', 5], ['FOX', 'fox', 3], ['JUMPS', 'jumps', 5], ['OVER', 'over', 4], ['THE', 'the', 3], ['LAZY', 'lazy', 4], ['DOG', 'dog', 3]]\n",
      "['The', 'quick', 'brown', 'fox', 'jumps', 'over', 'the', 'lazy', 'dog']\n"
     ]
    }
   ],
   "source": [
    "#9\n",
    "words = ['The', 'quick', 'brown', 'fox', 'jumps', 'over', 'the', 'lazy', 'dog']\n",
    "print([x.upper() for x in words])\n",
    "print([x.lower() for x in words])\n",
    "print([len(x) for x in words])\n",
    "print([[x.upper(), x.lower(), len(x)]for x in words])\n",
    "print([x for x in words if len(x) >= 3])"
   ]
  },
  {
   "cell_type": "code",
   "execution_count": 13,
   "id": "993964b1",
   "metadata": {},
   "outputs": [
    {
     "name": "stdout",
     "output_type": "stream",
     "text": [
      "  W3C Mission \n",
      "  \n",
      "\t \n",
      "   Principles \n",
      "   \n",
      " \n",
      "\n",
      "\n",
      " \n"
     ]
    }
   ],
   "source": [
    "#6\n",
    "from html.parser import HTMLParser            #defining library module html.parser and importing library\n",
    "\n",
    "f = open(r'C:\\Users\\YadhuKrishnaM2478\\Desktop\\w3c.html')            #opening the created html file on desktop and reading the file\n",
    "a=str(f.read())\n",
    "\n",
    "class HeadingParser(HTMLParser):         \n",
    "  \n",
    "    def __init__(self):                    \n",
    "        HTMLParser.__init__(self)\n",
    "        self.flag = 0 \n",
    "    \n",
    "    def handle_starttag(self, tag, attrs):                    \n",
    "        \n",
    "        if tag == 'h1' or tag == 'h2' or tag == 'h3' or tag == 'h4' or tag=='h5' or tag == 'h6' or tag == 'h7':\n",
    "            self.flag += 1                                     \n",
    "        else:\n",
    "            self.flag = 0\n",
    "            \n",
    "    def handle_data(self, data):            #defining function to print the heading of html\n",
    "        if self.flag and data!='\\n':\n",
    "            \n",
    "            print('{} {} '.format(self.flag*' ', data))\n",
    "\n",
    "\n",
    "parser = HeadingParser()                            \n",
    "parser.feed(a)"
   ]
  },
  {
   "cell_type": "code",
   "execution_count": null,
   "id": "e7dd7a8e",
   "metadata": {},
   "outputs": [],
   "source": []
  },
  {
   "cell_type": "code",
   "execution_count": null,
   "id": "80039878",
   "metadata": {},
   "outputs": [],
   "source": []
  }
 ],
 "metadata": {
  "kernelspec": {
   "display_name": "Python 3 (ipykernel)",
   "language": "python",
   "name": "python3"
  },
  "language_info": {
   "codemirror_mode": {
    "name": "ipython",
    "version": 3
   },
   "file_extension": ".py",
   "mimetype": "text/x-python",
   "name": "python",
   "nbconvert_exporter": "python",
   "pygments_lexer": "ipython3",
   "version": "3.9.12"
  }
 },
 "nbformat": 4,
 "nbformat_minor": 5
}
